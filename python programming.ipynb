{
 "cells": [
  {
   "cell_type": "code",
   "execution_count": 10,
   "metadata": {},
   "outputs": [
    {
     "name": "stdout",
     "output_type": "stream",
     "text": [
      "hello world\n"
     ]
    }
   ],
   "source": [
    "print(\"hello world\")"
   ]
  },
  {
   "cell_type": "code",
   "execution_count": 11,
   "metadata": {},
   "outputs": [
    {
     "name": "stdout",
     "output_type": "stream",
     "text": [
      "hello tom and jerry\n"
     ]
    }
   ],
   "source": [
    "print(\"hello tom and jerry\")"
   ]
  },
  {
   "cell_type": "markdown",
   "metadata": {},
   "source": [
    "logical operators"
   ]
  },
  {
   "cell_type": "code",
   "execution_count": 10,
   "metadata": {},
   "outputs": [
    {
     "name": "stdout",
     "output_type": "stream",
     "text": [
      "False\n",
      "True\n",
      "True\n",
      "False\n"
     ]
    }
   ],
   "source": [
    "\n",
    "\n",
    "\n",
    "\n",
    "a = 5\n",
    "b = 2\n",
    "print(a<b and a>b)\n",
    "print(a<b or a>b)\n",
    "print(not(a<b and a>b))\n",
    "print(not(a<b or a>b))\n"
   ]
  },
  {
   "cell_type": "markdown",
   "metadata": {},
   "source": [
    "Bitwise operators"
   ]
  },
  {
   "cell_type": "code",
   "execution_count": 11,
   "metadata": {},
   "outputs": [
    {
     "name": "stdout",
     "output_type": "stream",
     "text": [
      "2\n",
      "7\n",
      "5\n",
      "-7\n",
      "-4\n",
      "12\n",
      "3\n"
     ]
    }
   ],
   "source": [
    "\n",
    "\n",
    "\n",
    "a = 6\n",
    "b = 3\n",
    "print(a & b)\n",
    "print(a | b)\n",
    "print(a ^ b)\n",
    "print(~a)\n",
    "print(~b)\n",
    "print(a << 1)\n",
    "print(a >> 1)"
   ]
  },
  {
   "cell_type": "markdown",
   "metadata": {},
   "source": [
    "Identity operators"
   ]
  },
  {
   "cell_type": "code",
   "execution_count": 12,
   "metadata": {},
   "outputs": [
    {
     "name": "stdout",
     "output_type": "stream",
     "text": [
      "True\n",
      "False\n",
      "False\n",
      "True\n"
     ]
    }
   ],
   "source": [
    "a = 5\n",
    "b = 5\n",
    "c = 3\n",
    "print(a is b)\n",
    "print(a is c)\n",
    "print(a is not b)\n",
    "print(a is not c)"
   ]
  },
  {
   "cell_type": "markdown",
   "metadata": {},
   "source": [
    "Logical operators"
   ]
  },
  {
   "cell_type": "code",
   "execution_count": 13,
   "metadata": {},
   "outputs": [
    {
     "name": "stdout",
     "output_type": "stream",
     "text": [
      "False\n",
      "True\n",
      "True\n",
      "False\n"
     ]
    }
   ],
   "source": [
    "a = 5\n",
    "b = 2\n",
    "print(a<b and a>b)\n",
    "print(a<b or a>b)\n",
    "print(not(a<b and a>b))\n",
    "print(not(a<b or a>b))\n"
   ]
  },
  {
   "cell_type": "markdown",
   "metadata": {},
   "source": [
    "Membership operators in-not_in"
   ]
  },
  {
   "cell_type": "code",
   "execution_count": 14,
   "metadata": {},
   "outputs": [
    {
     "name": "stdout",
     "output_type": "stream",
     "text": [
      "True\n",
      "False\n"
     ]
    }
   ],
   "source": [
    "a = [\"apple\",\"banana\"]\n",
    "print(\"banana\" in a)\n",
    "print(\"mango\" in a)"
   ]
  },
  {
   "cell_type": "markdown",
   "metadata": {},
   "source": [
    "Arithmetic operators"
   ]
  },
  {
   "cell_type": "code",
   "execution_count": 15,
   "metadata": {},
   "outputs": [
    {
     "name": "stdout",
     "output_type": "stream",
     "text": [
      "7\n",
      "3\n",
      "10\n",
      "2.5\n",
      "1\n",
      "2\n",
      "25\n"
     ]
    }
   ],
   "source": [
    "a = 5\n",
    "b= 2\n",
    "print(a + b)\n",
    "print(a - b)\n",
    "print(a * b)\n",
    "print(a / b)\n",
    "print(a % b)\n",
    "print(a // b)\n",
    "print(a ** b)\n"
   ]
  },
  {
   "cell_type": "markdown",
   "metadata": {},
   "source": [
    "accessing from the list "
   ]
  },
  {
   "cell_type": "code",
   "execution_count": 16,
   "metadata": {},
   "outputs": [
    {
     "name": "stdout",
     "output_type": "stream",
     "text": [
      "['banana', 'apple', 'strawberry']\n"
     ]
    }
   ],
   "source": [
    "thislist=[\"banana\",\"apple\",\"strawberry\"]\n",
    "print(thislist[0:3])"
   ]
  },
  {
   "cell_type": "code",
   "execution_count": 17,
   "metadata": {},
   "outputs": [
    {
     "name": "stdout",
     "output_type": "stream",
     "text": [
      "['boy', 'girl', 'tom', 'vanishree']\n"
     ]
    }
   ],
   "source": [
    "thislist=[\"boy\",\"girl\",\"tom\",\"vanishree\"]\n",
    "print(thislist[0:])"
   ]
  },
  {
   "cell_type": "markdown",
   "metadata": {},
   "source": [
    "try exception"
   ]
  },
  {
   "cell_type": "code",
   "execution_count": 18,
   "metadata": {},
   "outputs": [
    {
     "name": "stdout",
     "output_type": "stream",
     "text": [
      "vetry is an brand ambacetar for vetry technologies\n"
     ]
    }
   ],
   "source": [
    "try:\n",
    "    print(D)\n",
    "except:\n",
    "    print(\"vetry is an brand ambacetar for vetry technologies\") \n"
   ]
  },
  {
   "cell_type": "markdown",
   "metadata": {},
   "source": [
    "try else exception"
   ]
  },
  {
   "cell_type": "code",
   "execution_count": 19,
   "metadata": {},
   "outputs": [
    {
     "name": "stdout",
     "output_type": "stream",
     "text": [
      "how are you\n",
      "no,here no problem\n"
     ]
    }
   ],
   "source": [
    "try:\n",
    "    print(\"how are you\")\n",
    "except:\n",
    "    print(\"is there any problem\")\n",
    "else:\n",
    "    print(\"no,here no problem\")    \n"
   ]
  },
  {
   "cell_type": "markdown",
   "metadata": {},
   "source": [
    "zero division erroe or not a valid number error"
   ]
  },
  {
   "cell_type": "code",
   "execution_count": 20,
   "metadata": {},
   "outputs": [
    {
     "name": "stdout",
     "output_type": "stream",
     "text": [
      "4\n"
     ]
    }
   ],
   "source": [
    "try:\n",
    "    age=int(input(\"age: \"))\n",
    "    income=2000\n",
    "    risk=income/age\n",
    "    print(age)\n",
    "except valueerror:\n",
    "    print(\"not a value number\")\n",
    "except zerodivisionerror:\n",
    "    print(\"age cannot be 0\")\n"
   ]
  },
  {
   "cell_type": "markdown",
   "metadata": {},
   "source": [
    "Not a valid number error"
   ]
  },
  {
   "cell_type": "code",
   "execution_count": 21,
   "metadata": {},
   "outputs": [
    {
     "name": "stdout",
     "output_type": "stream",
     "text": [
      "Not a valid number\n"
     ]
    }
   ],
   "source": [
    "try: \n",
    " num = int(input(\"Enter a number: \"))\n",
    " n = 3\n",
    " risk = n / num\n",
    " print(num)\n",
    "except ValueError:\n",
    " print(\"Not a valid number\")\n",
    "except ZeroDivisionError:\n",
    " print(\"Age cannot be 0\")\n",
    "\n",
    "\n",
    " "
   ]
  },
  {
   "cell_type": "markdown",
   "metadata": {},
   "source": [
    "Zero division error"
   ]
  },
  {
   "cell_type": "code",
   "execution_count": null,
   "metadata": {},
   "outputs": [
    {
     "name": "stdout",
     "output_type": "stream",
     "text": [
      "Error: Cannot divide by zero\n"
     ]
    }
   ],
   "source": [
    "try:\n",
    "    a = 10\n",
    "    b = 0\n",
    "    print(a/b)\n",
    "except ZeroDivisionError as e:\n",
    "    print(\"Error: Cannot divide by zero\")"
   ]
  },
  {
   "cell_type": "markdown",
   "metadata": {},
   "source": [
    "Comparison operators or relational operators"
   ]
  },
  {
   "cell_type": "code",
   "execution_count": null,
   "metadata": {},
   "outputs": [
    {
     "name": "stdout",
     "output_type": "stream",
     "text": [
      "x==y\n",
      "x!=y\n",
      "x>y\n",
      "x<y\n",
      "x>=y\n",
      "x<=y\n"
     ]
    }
   ],
   "source": [
    "x=3\n",
    "y=1\n",
    "print(\"x==y\")\n",
    "print(\"x!=y\")\n",
    "print(\"x>y\")\n",
    "print(\"x<y\")\n",
    "print(\"x>=y\")\n",
    "print(\"x<=y\")\n"
   ]
  },
  {
   "cell_type": "markdown",
   "metadata": {},
   "source": [
    "list"
   ]
  },
  {
   "cell_type": "code",
   "execution_count": null,
   "metadata": {},
   "outputs": [
    {
     "name": "stdout",
     "output_type": "stream",
     "text": [
      "10\n"
     ]
    }
   ],
   "source": [
    "my_list=[12,33,56,89,96,77,86,90,84,90]\n",
    "print(len(my_list))"
   ]
  },
  {
   "cell_type": "code",
   "execution_count": null,
   "metadata": {},
   "outputs": [
    {
     "name": "stdout",
     "output_type": "stream",
     "text": [
      "ramtom\n"
     ]
    }
   ],
   "source": [
    "a='ram'\n",
    "b='tom'\n",
    "c=a+b\n",
    "print(c)"
   ]
  },
  {
   "cell_type": "markdown",
   "metadata": {},
   "source": [
    "string handling"
   ]
  },
  {
   "cell_type": "code",
   "execution_count": null,
   "metadata": {},
   "outputs": [
    {
     "name": "stdout",
     "output_type": "stream",
     "text": [
      "tomram\n",
      "tom3\n",
      "tomtomtom\n"
     ]
    }
   ],
   "source": [
    "a='tom'\n",
    "b='ram'\n",
    "c=a+b\n",
    "print(c)\n",
    "c=3\n",
    "z=str(c)\n",
    "d=a+z\n",
    "print(d)\n",
    "print(a*c)"
   ]
  },
  {
   "cell_type": "markdown",
   "metadata": {},
   "source": [
    "swapping operators"
   ]
  },
  {
   "cell_type": "code",
   "execution_count": 26,
   "metadata": {},
   "outputs": [
    {
     "name": "stdout",
     "output_type": "stream",
     "text": [
      "Before swapping\n",
      "the value of x: 3 and y: 1\n",
      "After swapping\n",
      "the value of x: 1 and y: 3\n"
     ]
    }
   ],
   "source": [
    "a=10\n",
    "b=5\n",
    "print(\"Before swapping\")\n",
    "print(\"the value of x:\",x,\"and y:\",y)\n",
    "print(\"After swapping\")\n",
    "print(\"the value of x:\",y,\"and y:\",x)"
   ]
  },
  {
   "cell_type": "markdown",
   "metadata": {},
   "source": [
    "Increment/Decrement operators\n"
   ]
  },
  {
   "cell_type": "code",
   "execution_count": 44,
   "metadata": {},
   "outputs": [
    {
     "name": "stdout",
     "output_type": "stream",
     "text": [
      "the value of count 1\n",
      "INCREMENT for loop\n",
      "0\n",
      "1\n",
      "2\n",
      "3\n",
      "4\n",
      "DECREMENT for loop\n",
      "2\n",
      "1\n",
      "0\n",
      "-1\n"
     ]
    }
   ],
   "source": [
    "count=0\n",
    "count+=1\n",
    "count=count\n",
    "print(\"the value of count\",count)\n",
    "print(\"INCREMENT for loop\")\n",
    "for i in range (0,5):\n",
    "    print(i)\n",
    "print(\"DECREMENT for loop\")\n",
    "for i in range(2,-2,-1):\n",
    "    print(i)\n"
   ]
  },
  {
   "cell_type": "markdown",
   "metadata": {},
   "source": []
  },
  {
   "cell_type": "markdown",
   "metadata": {},
   "source": [
    "Area of circle"
   ]
  },
  {
   "cell_type": "code",
   "execution_count": 46,
   "metadata": {},
   "outputs": [
    {
     "name": "stdout",
     "output_type": "stream",
     "text": [
      "Area of circle\n",
      "the radius of the circle is 28.274333882308138\n"
     ]
    }
   ],
   "source": [
    "from math import pi\n",
    "print(\"Area of circle\")\n",
    "r=float(input(\"Enter the radius of the circle:\"))\n",
    "area = pi * r * r\n",
    "print(\"the radius of the circle is\", area)\n"
   ]
  },
  {
   "cell_type": "markdown",
   "metadata": {},
   "source": [
    "Area of triangle"
   ]
  },
  {
   "cell_type": "code",
   "execution_count": 49,
   "metadata": {},
   "outputs": [
    {
     "name": "stdout",
     "output_type": "stream",
     "text": [
      "area of triangle\n",
      "the radius of the triangle is 12.566370614359172\n"
     ]
    }
   ],
   "source": [
    "from math import pi\n",
    "print(\"area of triangle\")\n",
    "r=float(input(\"Enter the radius of the triangle: \"))\n",
    "area=pi * r * r\n",
    "print(\"the radius of the triangle is\",area)\n"
   ]
  },
  {
   "cell_type": "markdown",
   "metadata": {},
   "source": [
    "Area of rectangle"
   ]
  },
  {
   "cell_type": "code",
   "execution_count": 53,
   "metadata": {},
   "outputs": [
    {
     "name": "stdout",
     "output_type": "stream",
     "text": [
      "Area of rectangle\n",
      "the radius of the rectangle is 3.141592653589793\n"
     ]
    }
   ],
   "source": [
    "from math import pi\n",
    "print(\"Area of rectangle\")\n",
    "r=float(input(\"Enter the radius of the rectangle:\"))\n",
    "area=pi * r * r\n",
    "print(\"the radius of the rectangle is\",area)"
   ]
  },
  {
   "cell_type": "code",
   "execution_count": 66,
   "metadata": {},
   "outputs": [
    {
     "name": "stdout",
     "output_type": "stream",
     "text": [
      "The youngest child is Linus\n"
     ]
    }
   ],
   "source": [
    "def my_function(child3, child2, child1):\n",
    "  print(\"The youngest child is \" + child3)\n",
    "\n",
    "my_function(child1 = \"Emil\", child2 = \"Tobias\", child3 = \"Linus\")\n"
   ]
  },
  {
   "cell_type": "code",
   "execution_count": 75,
   "metadata": {},
   "outputs": [
    {
     "name": "stdout",
     "output_type": "stream",
     "text": [
      "the oldest child isyogesh\n"
     ]
    }
   ],
   "source": [
    "def my_function(child3,child2,child1):\n",
    "    print(\"the oldest child is\" + child3)\n",
    "     \n",
    "my_function(child1 = \"vetry\", child2 = \"arjun\", child3 = \"yogesh\")\n",
    "\n"
   ]
  },
  {
   "cell_type": "code",
   "execution_count": 17,
   "metadata": {},
   "outputs": [
    {
     "name": "stdout",
     "output_type": "stream",
     "text": [
      "<__main__.Human object at 0x06AF54A8> <class '__main__.Human'>\n",
      "tom <class 'str'>\n"
     ]
    }
   ],
   "source": [
    "class Human():\n",
    "    name= 'tom'\n",
    "    \n",
    "h1= Human()\n",
    "print(h1, type(h1))\n",
    "print(h1.name,type(h1.name))\n"
   ]
  },
  {
   "cell_type": "code",
   "execution_count": 19,
   "metadata": {},
   "outputs": [
    {
     "ename": "SyntaxError",
     "evalue": "invalid syntax (<ipython-input-19-082d6c89d816>, line 32)",
     "output_type": "error",
     "traceback": [
      "\u001b[1;36m  File \u001b[1;32m\"<ipython-input-19-082d6c89d816>\"\u001b[1;36m, line \u001b[1;32m32\u001b[0m\n\u001b[1;33m    tom < class '__main__.Human'>\u001b[0m\n\u001b[1;37m          ^\u001b[0m\n\u001b[1;31mSyntaxError\u001b[0m\u001b[1;31m:\u001b[0m invalid syntax\n"
     ]
    }
   ],
   "source": [
    "class Human():\n",
    "    name= 'tom'\n",
    "    \n",
    "h1= Human()\n",
    "print(h1, type(h1))\n",
    "print(h1.name,type(h1.name))\n",
    "class Human():\n",
    "    def __init__(self,name,age,gender,nativeplace,mothertongue,nationality,department,college):\n",
    "       self.name='tom'\n",
    "       self.age= '21'\n",
    "       self.gender= 'male'\n",
    "       self.nativeplace= 'vnb'\n",
    "       self.mothertongue= 'tamil'\n",
    "       self.nationality= 'Indian'\n",
    "       self.department= 'cse'\n",
    "       self.college= 'psvcollege'\n",
    "    def __str__(self):\n",
    "        return self.name\n",
    "    \n",
    "\n",
    "    h1 = Human(name='tom',age= '21',gender= 'male',nativeplace= 'vnb',mothertongue= 'tamil',nationality= 'Indian',department= 'cse',college= 'psvcollege')\n",
    "    print(h1, type(h1))\n",
    "print(h1.name, type(h1.name))\n",
    "print(h1.age, type(h1.age))\n",
    "print(h1.gender, type(h1.gender))   \n",
    "print(h1.nativeplace, type(h1.nativeplace))\n",
    "print(h1.mothertongue, type(h1.mothertongue ))\n",
    "print(h1.nationality,type(h1.nationality) )\n",
    "print(h1.department,type(h1.department))\n",
    "print(h1.college,type(h1.college))\n",
    "\n",
    "tom\n",
    "\n",
    "<class '__main__.Human'>\n",
    "tom < class 'str'>\n",
    "34 < class 'int'>\n",
    "Male < class 'str'>\n",
    "    def greet():\n",
    "print('hai I am ', self.name)\n",
    "h1.greet()"
   ]
  },
  {
   "cell_type": "code",
   "execution_count": 25,
   "metadata": {},
   "outputs": [
    {
     "name": "stdout",
     "output_type": "stream",
     "text": [
      "[tom] and (21) and [male]\n",
      "[mukesh] and (22) and [male]\n",
      "[yogesh] and (20) and [male]\n"
     ]
    }
   ],
   "source": [
    "class Department:\n",
    "    def __init__(self,name,age,gender):\n",
    "        self.name = name\n",
    "        self.age = age\n",
    "        self.gender = gender\n",
    "        \n",
    "\n",
    "    def __str__(self):\n",
    "        return f\"[{self.name}] and ({self.age}) and [{self.gender}]\" \n",
    "\n",
    "\n",
    "\n",
    "p1 = Department(\"tom\",21,\"male\")\n",
    "p2 = Department(\"mukesh\",22,\"male\")\n",
    "p3 = Department(\"yogesh\",20,\"male\")\n",
    "\n",
    "\n",
    "\n",
    "print(p1)\n",
    "print(p2)\n",
    "print(p3)                "
   ]
  }
 ],
 "metadata": {
  "kernelspec": {
   "display_name": "base",
   "language": "python",
   "name": "python3"
  },
  "language_info": {
   "codemirror_mode": {
    "name": "ipython",
    "version": 3
   },
   "file_extension": ".py",
   "mimetype": "text/x-python",
   "name": "python",
   "nbconvert_exporter": "python",
   "pygments_lexer": "ipython3",
   "version": "3.8.3"
  },
  "orig_nbformat": 4
 },
 "nbformat": 4,
 "nbformat_minor": 2
}
